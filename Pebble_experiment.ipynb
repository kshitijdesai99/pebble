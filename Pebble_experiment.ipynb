{
 "cells": [
  {
   "cell_type": "markdown",
   "metadata": {},
   "source": [
    "### Using pebble for Time and memory limit\n",
    "* Pebble runs a function in a separate process (cpu bound) and kills it if it takes too long or uses too much memory."
   ]
  },
  {
   "cell_type": "code",
   "execution_count": 2,
   "metadata": {},
   "outputs": [],
   "source": [
    "# pip install pebble"
   ]
  },
  {
   "cell_type": "markdown",
   "metadata": {},
   "source": [
    "* ProcessPool is a pool of processes that can be used to execute tasks concurrently."
   ]
  },
  {
   "cell_type": "code",
   "execution_count": 3,
   "metadata": {},
   "outputs": [
    {
     "name": "stdout",
     "output_type": "stream",
     "text": [
      "Process ID: 3504 - Starting calculation for 10\n",
      "Function execution timed out ⏰\n"
     ]
    }
   ],
   "source": [
    "from pebble import ProcessPool\n",
    "import time\n",
    "import os\n",
    "\n",
    "# A sample function to demonstrate\n",
    "def heavy_function(x):\n",
    "    print(f\"Process ID: {os.getpid()} - Starting calculation for {x}\")\n",
    "    time.sleep(5)  # Simulate a heavy computation\n",
    "    return x ** 2\n",
    "\n",
    "# Define a timeout and memory control\n",
    "def run_with_limits():\n",
    "    with ProcessPool(max_workers=2) as pool:  # Limit to 2 concurrent processes\n",
    "        future = pool.schedule(heavy_function, args=(10,), timeout=3)  # Timeout in 3 seconds\n",
    "        \n",
    "        try:\n",
    "            result = future.result()  # This will block until the result is ready or timeout occurs\n",
    "            print(f\"Result: {result}\")\n",
    "        except TimeoutError:\n",
    "            print(\"Function execution timed out ⏰\")\n",
    "        except Exception as e:\n",
    "            print(f\"An error occurred: {e}\")\n",
    "\n",
    "# Execute the example\n",
    "run_with_limits()"
   ]
  },
  {
   "cell_type": "code",
   "execution_count": 4,
   "metadata": {},
   "outputs": [
    {
     "name": "stdout",
     "output_type": "stream",
     "text": [
      "Memory limit exceeded 💥\n"
     ]
    }
   ],
   "source": [
    "import resource\n",
    "\n",
    "def memory_limited_function(x):\n",
    "    # Limit memory to 100 MB\n",
    "    soft, hard = 100 * 1024 * 1024, 100 * 1024 * 1024  # Bytes\n",
    "    resource.setrlimit(resource.RLIMIT_AS, (soft, hard))\n",
    "    \n",
    "    # Heavy computation (this will fail if memory limit is exceeded)\n",
    "    result = [i * x for i in range(10**7)]\n",
    "    return sum(result)\n",
    "\n",
    "def run_with_memory_limit():\n",
    "    with ProcessPool(max_workers=1) as pool:\n",
    "        future = pool.schedule(memory_limited_function, args=(10,), timeout=5)  # 5s timeout\n",
    "        \n",
    "        try:\n",
    "            result = future.result()\n",
    "            print(f\"Result: {result}\")\n",
    "        except TimeoutError:\n",
    "            print(\"Function execution timed out ⏰\")\n",
    "        except MemoryError:\n",
    "            print(\"Memory limit exceeded 💥\")\n",
    "        except Exception as e:\n",
    "            print(f\"An error occurred: {e}\")\n",
    "\n",
    "# Execute\n",
    "run_with_memory_limit()"
   ]
  },
  {
   "cell_type": "markdown",
   "metadata": {},
   "source": [
    "* Thread pool is the pool of threads that can be executed concurrently"
   ]
  },
  {
   "cell_type": "markdown",
   "metadata": {},
   "source": [
    "In Pebble, the timeout parameter is available in the ProcessPool's schedule method but not in the ThreadPool's schedule method. This is because threads share the same memory space and are subject to Python's Global Interpreter Lock (GIL), making it challenging to enforce timeouts at the thread level."
   ]
  },
  {
   "cell_type": "code",
   "execution_count": 8,
   "metadata": {},
   "outputs": [
    {
     "name": "stdout",
     "output_type": "stream",
     "text": [
      "Worker stopping cooperatively.\n"
     ]
    }
   ],
   "source": [
    "import time\n",
    "import threading\n",
    "import concurrent.futures\n",
    "\n",
    "def cooperative_worker(stop_event, work_time=10):\n",
    "    elapsed = 0\n",
    "    while elapsed < work_time:\n",
    "        if stop_event.is_set():\n",
    "            print(\"Worker stopping cooperatively.\")\n",
    "            return\n",
    "        time.sleep(1)\n",
    "        elapsed += 1\n",
    "    print(\"Worker done without stop event.\")\n",
    "\n",
    "def run_with_threadpool():\n",
    "    stop_event = threading.Event()\n",
    "    \n",
    "    with concurrent.futures.ThreadPoolExecutor() as executor:\n",
    "        # Submit the task\n",
    "        future = executor.submit(cooperative_worker, stop_event, 10)\n",
    "        \n",
    "        # Let work run for 3s, then signal stop\n",
    "        time.sleep(2)\n",
    "        stop_event.set()\n",
    "        \n",
    "        # Wait for the task to complete\n",
    "        try:\n",
    "            result = future.result(timeout=2)  # Add timeout for safety\n",
    "        except concurrent.futures.TimeoutError:\n",
    "            print(\"Task timed out\")\n",
    "\n",
    "if __name__ == \"__main__\":\n",
    "    run_with_threadpool()"
   ]
  },
  {
   "cell_type": "code",
   "execution_count": 3,
   "metadata": {},
   "outputs": [
    {
     "name": "stdout",
     "output_type": "stream",
     "text": [
      "Worker done without stop event.\n"
     ]
    }
   ],
   "source": [
    "### Approach 2 - old way\n",
    "import time\n",
    "import threading\n",
    "import concurrent.futures\n",
    "\n",
    "# Approach 1: Cooperative stop event\n",
    "def cooperative_worker(stop_event, work_time=10):\n",
    "    elapsed = 0\n",
    "    while elapsed < work_time:\n",
    "        if stop_event.is_set():\n",
    "            print(\"Worker stopping cooperatively.\")\n",
    "            return\n",
    "        time.sleep(1)\n",
    "        elapsed += 1\n",
    "    print(\"Worker done without stop event.\")\n",
    "\n",
    "def run_cooperative():\n",
    "    stop_event = threading.Event()\n",
    "    t = threading.Thread(target=cooperative_worker, args=(stop_event, 10))\n",
    "    t.start()\n",
    "    # Let work run for 3s, then signal stop\n",
    "    time.sleep(11)\n",
    "    stop_event.set()\n",
    "    t.join()\n",
    "\n",
    "if __name__ == \"__main__\":\n",
    "    run_cooperative()"
   ]
  },
  {
   "cell_type": "markdown",
   "metadata": {},
   "source": [
    "* Problem is we cannot limit memory used by each thread. We can only limit memory used by each process."
   ]
  }
 ],
 "metadata": {
  "kernelspec": {
   "display_name": "env",
   "language": "python",
   "name": "python3"
  },
  "language_info": {
   "codemirror_mode": {
    "name": "ipython",
    "version": 3
   },
   "file_extension": ".py",
   "mimetype": "text/x-python",
   "name": "python",
   "nbconvert_exporter": "python",
   "pygments_lexer": "ipython3",
   "version": "3.12.8"
  }
 },
 "nbformat": 4,
 "nbformat_minor": 2
}
